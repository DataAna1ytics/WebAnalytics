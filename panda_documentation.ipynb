{
 "cells": [
  {
   "cell_type": "markdown",
   "metadata": {},
   "source": [
    "# From the Docs"
   ]
  },
  {
   "cell_type": "markdown",
   "metadata": {},
   "source": [
    "## Missing Values\n",
    "From the [Pandas Official Documentation](http://pandas.pydata.org/pandas-docs/stable/missing_data.html)"
   ]
  },
  {
   "cell_type": "markdown",
   "metadata": {},
   "source": [
    "---"
   ]
  },
  {
   "cell_type": "code",
   "execution_count": 6,
   "metadata": {},
   "outputs": [
    {
     "data": {
      "text/plain": [
       "'0.23.4'"
      ]
     },
     "execution_count": 6,
     "metadata": {},
     "output_type": "execute_result"
    }
   ],
   "source": [
    "import pandas as pd\n",
    "pd.__version__"
   ]
  },
  {
   "cell_type": "code",
   "execution_count": 7,
   "metadata": {},
   "outputs": [
    {
     "data": {
      "text/html": [
       "<div>\n",
       "<style scoped>\n",
       "    .dataframe tbody tr th:only-of-type {\n",
       "        vertical-align: middle;\n",
       "    }\n",
       "\n",
       "    .dataframe tbody tr th {\n",
       "        vertical-align: top;\n",
       "    }\n",
       "\n",
       "    .dataframe thead th {\n",
       "        text-align: right;\n",
       "    }\n",
       "</style>\n",
       "<table border=\"1\" class=\"dataframe\">\n",
       "  <thead>\n",
       "    <tr style=\"text-align: right;\">\n",
       "      <th></th>\n",
       "      <th>Unnamed: 0</th>\n",
       "      <th>Browser</th>\n",
       "      <th>Country</th>\n",
       "      <th>Date Submitted</th>\n",
       "      <th>Device</th>\n",
       "      <th>How did you hear about us?</th>\n",
       "      <th>OS</th>\n",
       "      <th>Source URL</th>\n",
       "      <th>User</th>\n",
       "      <th>Medium</th>\n",
       "      <th>OSGroup</th>\n",
       "    </tr>\n",
       "  </thead>\n",
       "  <tbody>\n",
       "    <tr>\n",
       "      <th>0</th>\n",
       "      <td>0</td>\n",
       "      <td>Firefox 57.0</td>\n",
       "      <td>Indonesia</td>\n",
       "      <td>2018-01-05 01:35:47</td>\n",
       "      <td>desktop</td>\n",
       "      <td>Friends / Family -                            ...</td>\n",
       "      <td>Windows 8.1</td>\n",
       "      <td>https://algorit.ma/</td>\n",
       "      <td>00000000</td>\n",
       "      <td>Friends / Family</td>\n",
       "      <td>Windows</td>\n",
       "    </tr>\n",
       "    <tr>\n",
       "      <th>1</th>\n",
       "      <td>1</td>\n",
       "      <td>Safari 11.0.1</td>\n",
       "      <td>Indonesia</td>\n",
       "      <td>2018-01-05 04:25:43</td>\n",
       "      <td>desktop</td>\n",
       "      <td>Media Publishing</td>\n",
       "      <td>Mac OS X 10.13.1</td>\n",
       "      <td>https://algorit.ma/</td>\n",
       "      <td>00000000</td>\n",
       "      <td>Media Publishing</td>\n",
       "      <td>Mac</td>\n",
       "    </tr>\n",
       "    <tr>\n",
       "      <th>2</th>\n",
       "      <td>2</td>\n",
       "      <td>Chrome 63.0.3239</td>\n",
       "      <td>Indonesia</td>\n",
       "      <td>2018-01-05 16:36:25</td>\n",
       "      <td>desktop</td>\n",
       "      <td>Friends / Family -                            ...</td>\n",
       "      <td>Windows 10</td>\n",
       "      <td>https://algorit.ma/</td>\n",
       "      <td>00000000</td>\n",
       "      <td>Friends / Family</td>\n",
       "      <td>Windows</td>\n",
       "    </tr>\n",
       "    <tr>\n",
       "      <th>3</th>\n",
       "      <td>3</td>\n",
       "      <td>Chrome 62.0.3202</td>\n",
       "      <td>Indonesia</td>\n",
       "      <td>2018-01-06 16:40:16</td>\n",
       "      <td>desktop</td>\n",
       "      <td>Media Publishing</td>\n",
       "      <td>Windows 10</td>\n",
       "      <td>https://algorit.ma/</td>\n",
       "      <td>00000000</td>\n",
       "      <td>Media Publishing</td>\n",
       "      <td>Windows</td>\n",
       "    </tr>\n",
       "    <tr>\n",
       "      <th>4</th>\n",
       "      <td>4</td>\n",
       "      <td>Chrome 63.0.3239</td>\n",
       "      <td>Indonesia</td>\n",
       "      <td>2018-01-08 03:45:42</td>\n",
       "      <td>desktop</td>\n",
       "      <td>Search Engine</td>\n",
       "      <td>Windows 10</td>\n",
       "      <td>https://algorit.ma/</td>\n",
       "      <td>00000000</td>\n",
       "      <td>Search Engine</td>\n",
       "      <td>Windows</td>\n",
       "    </tr>\n",
       "  </tbody>\n",
       "</table>\n",
       "</div>"
      ],
      "text/plain": [
       "   Unnamed: 0           Browser    Country       Date Submitted   Device  \\\n",
       "0           0      Firefox 57.0  Indonesia  2018-01-05 01:35:47  desktop   \n",
       "1           1     Safari 11.0.1  Indonesia  2018-01-05 04:25:43  desktop   \n",
       "2           2  Chrome 63.0.3239  Indonesia  2018-01-05 16:36:25  desktop   \n",
       "3           3  Chrome 62.0.3202  Indonesia  2018-01-06 16:40:16  desktop   \n",
       "4           4  Chrome 63.0.3239  Indonesia  2018-01-08 03:45:42  desktop   \n",
       "\n",
       "                          How did you hear about us?                OS  \\\n",
       "0  Friends / Family -                            ...       Windows 8.1   \n",
       "1                                   Media Publishing  Mac OS X 10.13.1   \n",
       "2  Friends / Family -                            ...        Windows 10   \n",
       "3                                   Media Publishing        Windows 10   \n",
       "4                                      Search Engine        Windows 10   \n",
       "\n",
       "            Source URL      User             Medium  OSGroup  \n",
       "0  https://algorit.ma/  00000000  Friends / Family   Windows  \n",
       "1  https://algorit.ma/  00000000   Media Publishing      Mac  \n",
       "2  https://algorit.ma/  00000000  Friends / Family   Windows  \n",
       "3  https://algorit.ma/  00000000   Media Publishing  Windows  \n",
       "4  https://algorit.ma/  00000000      Search Engine  Windows  "
      ]
     },
     "execution_count": 7,
     "metadata": {},
     "output_type": "execute_result"
    }
   ],
   "source": [
    "home = pd.read_csv('data_processed/home.csv')\n",
    "home.head()"
   ]
  },
  {
   "cell_type": "markdown",
   "metadata": {},
   "source": [
    "Using `pd.isna()` to subset for any rows with NA values in the `Country` column"
   ]
  },
  {
   "cell_type": "code",
   "execution_count": 9,
   "metadata": {},
   "outputs": [
    {
     "data": {
      "text/html": [
       "<div>\n",
       "<style scoped>\n",
       "    .dataframe tbody tr th:only-of-type {\n",
       "        vertical-align: middle;\n",
       "    }\n",
       "\n",
       "    .dataframe tbody tr th {\n",
       "        vertical-align: top;\n",
       "    }\n",
       "\n",
       "    .dataframe thead th {\n",
       "        text-align: right;\n",
       "    }\n",
       "</style>\n",
       "<table border=\"1\" class=\"dataframe\">\n",
       "  <thead>\n",
       "    <tr style=\"text-align: right;\">\n",
       "      <th></th>\n",
       "      <th>Unnamed: 0</th>\n",
       "      <th>Browser</th>\n",
       "      <th>Country</th>\n",
       "      <th>Date Submitted</th>\n",
       "      <th>Device</th>\n",
       "      <th>How did you hear about us?</th>\n",
       "      <th>OS</th>\n",
       "      <th>Source URL</th>\n",
       "      <th>User</th>\n",
       "      <th>Medium</th>\n",
       "      <th>OSGroup</th>\n",
       "    </tr>\n",
       "  </thead>\n",
       "  <tbody>\n",
       "    <tr>\n",
       "      <th>197</th>\n",
       "      <td>197</td>\n",
       "      <td>Chrome 66.0.3359</td>\n",
       "      <td>NaN</td>\n",
       "      <td>2018-05-21 04:13:31</td>\n",
       "      <td>desktop</td>\n",
       "      <td>Search Engine</td>\n",
       "      <td>Windows 7</td>\n",
       "      <td>https://algorit.ma/</td>\n",
       "      <td>00000000</td>\n",
       "      <td>Search Engine</td>\n",
       "      <td>Windows</td>\n",
       "    </tr>\n",
       "    <tr>\n",
       "      <th>376</th>\n",
       "      <td>376</td>\n",
       "      <td>Opera 55.0.2994</td>\n",
       "      <td>NaN</td>\n",
       "      <td>2018-09-06 06:03:52</td>\n",
       "      <td>desktop</td>\n",
       "      <td>Search Engine</td>\n",
       "      <td>Windows 7</td>\n",
       "      <td>https://algorit.ma/</td>\n",
       "      <td>00000000</td>\n",
       "      <td>Search Engine</td>\n",
       "      <td>Windows</td>\n",
       "    </tr>\n",
       "  </tbody>\n",
       "</table>\n",
       "</div>"
      ],
      "text/plain": [
       "     Unnamed: 0           Browser Country       Date Submitted   Device  \\\n",
       "197         197  Chrome 66.0.3359     NaN  2018-05-21 04:13:31  desktop   \n",
       "376         376   Opera 55.0.2994     NaN  2018-09-06 06:03:52  desktop   \n",
       "\n",
       "    How did you hear about us?         OS           Source URL      User  \\\n",
       "197              Search Engine  Windows 7  https://algorit.ma/  00000000   \n",
       "376              Search Engine  Windows 7  https://algorit.ma/  00000000   \n",
       "\n",
       "            Medium  OSGroup  \n",
       "197  Search Engine  Windows  \n",
       "376  Search Engine  Windows  "
      ]
     },
     "execution_count": 9,
     "metadata": {},
     "output_type": "execute_result"
    }
   ],
   "source": [
    "home.loc[pd.isna(home['Country']),:]"
   ]
  },
  {
   "cell_type": "code",
   "execution_count": 18,
   "metadata": {},
   "outputs": [
    {
     "data": {
      "text/html": [
       "<div>\n",
       "<style scoped>\n",
       "    .dataframe tbody tr th:only-of-type {\n",
       "        vertical-align: middle;\n",
       "    }\n",
       "\n",
       "    .dataframe tbody tr th {\n",
       "        vertical-align: top;\n",
       "    }\n",
       "\n",
       "    .dataframe thead th {\n",
       "        text-align: right;\n",
       "    }\n",
       "</style>\n",
       "<table border=\"1\" class=\"dataframe\">\n",
       "  <thead>\n",
       "    <tr style=\"text-align: right;\">\n",
       "      <th></th>\n",
       "      <th>id</th>\n",
       "      <th>creationdate</th>\n",
       "      <th>score</th>\n",
       "      <th>viewcount</th>\n",
       "      <th>title</th>\n",
       "      <th>answercount</th>\n",
       "      <th>commentcount</th>\n",
       "      <th>favoritecount</th>\n",
       "      <th>quest_name</th>\n",
       "      <th>quest_rep</th>\n",
       "      <th>ans_name</th>\n",
       "      <th>ans_rep</th>\n",
       "    </tr>\n",
       "  </thead>\n",
       "  <tbody>\n",
       "    <tr>\n",
       "      <th>0</th>\n",
       "      <td>5486226</td>\n",
       "      <td>2011-03-30 12:26:50</td>\n",
       "      <td>4</td>\n",
       "      <td>2113</td>\n",
       "      <td>Rolling median in python</td>\n",
       "      <td>3</td>\n",
       "      <td>4</td>\n",
       "      <td>1.0</td>\n",
       "      <td>yueerhu</td>\n",
       "      <td>125.0</td>\n",
       "      <td>Mike Pennington</td>\n",
       "      <td>26995.0</td>\n",
       "    </tr>\n",
       "    <tr>\n",
       "      <th>1</th>\n",
       "      <td>5515021</td>\n",
       "      <td>2011-04-01 14:50:44</td>\n",
       "      <td>8</td>\n",
       "      <td>7015</td>\n",
       "      <td>Compute a compounded return series in Python</td>\n",
       "      <td>3</td>\n",
       "      <td>6</td>\n",
       "      <td>7.0</td>\n",
       "      <td>Jason Strimpel</td>\n",
       "      <td>3301.0</td>\n",
       "      <td>Mike Pennington</td>\n",
       "      <td>26995.0</td>\n",
       "    </tr>\n",
       "    <tr>\n",
       "      <th>2</th>\n",
       "      <td>5558607</td>\n",
       "      <td>2011-04-05 21:13:50</td>\n",
       "      <td>2</td>\n",
       "      <td>7392</td>\n",
       "      <td>Sort a pandas DataMatrix in ascending order</td>\n",
       "      <td>2</td>\n",
       "      <td>0</td>\n",
       "      <td>1.0</td>\n",
       "      <td>Jason Strimpel</td>\n",
       "      <td>3301.0</td>\n",
       "      <td>Wes McKinney</td>\n",
       "      <td>43310.0</td>\n",
       "    </tr>\n",
       "    <tr>\n",
       "      <th>3</th>\n",
       "      <td>6467832</td>\n",
       "      <td>2011-06-24 12:31:45</td>\n",
       "      <td>9</td>\n",
       "      <td>13056</td>\n",
       "      <td>How to get the correlation between two timeser...</td>\n",
       "      <td>1</td>\n",
       "      <td>0</td>\n",
       "      <td>7.0</td>\n",
       "      <td>user814005</td>\n",
       "      <td>117.0</td>\n",
       "      <td>Wes McKinney</td>\n",
       "      <td>43310.0</td>\n",
       "    </tr>\n",
       "    <tr>\n",
       "      <th>4</th>\n",
       "      <td>7577546</td>\n",
       "      <td>2011-09-28 01:58:38</td>\n",
       "      <td>9</td>\n",
       "      <td>2488</td>\n",
       "      <td>Using pandas, how do I subsample a large DataF...</td>\n",
       "      <td>1</td>\n",
       "      <td>0</td>\n",
       "      <td>5.0</td>\n",
       "      <td>Uri Laserson</td>\n",
       "      <td>958.0</td>\n",
       "      <td>HYRY</td>\n",
       "      <td>54137.0</td>\n",
       "    </tr>\n",
       "  </tbody>\n",
       "</table>\n",
       "</div>"
      ],
      "text/plain": [
       "        id         creationdate  score  viewcount  \\\n",
       "0  5486226  2011-03-30 12:26:50      4       2113   \n",
       "1  5515021  2011-04-01 14:50:44      8       7015   \n",
       "2  5558607  2011-04-05 21:13:50      2       7392   \n",
       "3  6467832  2011-06-24 12:31:45      9      13056   \n",
       "4  7577546  2011-09-28 01:58:38      9       2488   \n",
       "\n",
       "                                               title  answercount  \\\n",
       "0                           Rolling median in python            3   \n",
       "1       Compute a compounded return series in Python            3   \n",
       "2        Sort a pandas DataMatrix in ascending order            2   \n",
       "3  How to get the correlation between two timeser...            1   \n",
       "4  Using pandas, how do I subsample a large DataF...            1   \n",
       "\n",
       "   commentcount  favoritecount      quest_name  quest_rep         ans_name  \\\n",
       "0             4            1.0         yueerhu      125.0  Mike Pennington   \n",
       "1             6            7.0  Jason Strimpel     3301.0  Mike Pennington   \n",
       "2             0            1.0  Jason Strimpel     3301.0     Wes McKinney   \n",
       "3             0            7.0      user814005      117.0     Wes McKinney   \n",
       "4             0            5.0    Uri Laserson      958.0             HYRY   \n",
       "\n",
       "   ans_rep  \n",
       "0  26995.0  \n",
       "1  26995.0  \n",
       "2  43310.0  \n",
       "3  43310.0  \n",
       "4  54137.0  "
      ]
     },
     "execution_count": 18,
     "metadata": {},
     "output_type": "execute_result"
    }
   ],
   "source": [
    "so = pd.read_csv('data_input/stackoverflow_qa.csv')\n",
    "so = so.iloc[0:5,:]\n",
    "so"
   ]
  },
  {
   "cell_type": "code",
   "execution_count": 19,
   "metadata": {},
   "outputs": [
    {
     "data": {
      "text/plain": [
       "32"
      ]
     },
     "execution_count": 19,
     "metadata": {},
     "output_type": "execute_result"
    }
   ],
   "source": [
    "so['score'].sum()"
   ]
  },
  {
   "cell_type": "code",
   "execution_count": 20,
   "metadata": {},
   "outputs": [
    {
     "data": {
      "text/plain": [
       "0    689433.875\n",
       "1    694044.500\n",
       "2    701576.875\n",
       "3    815541.500\n",
       "4    954393.000\n",
       "dtype: float64"
      ]
     },
     "execution_count": 20,
     "metadata": {},
     "output_type": "execute_result"
    }
   ],
   "source": [
    "so.mean(axis=1)"
   ]
  },
  {
   "cell_type": "code",
   "execution_count": 22,
   "metadata": {},
   "outputs": [
    {
     "data": {
      "text/html": [
       "<div>\n",
       "<style scoped>\n",
       "    .dataframe tbody tr th:only-of-type {\n",
       "        vertical-align: middle;\n",
       "    }\n",
       "\n",
       "    .dataframe tbody tr th {\n",
       "        vertical-align: top;\n",
       "    }\n",
       "\n",
       "    .dataframe thead th {\n",
       "        text-align: right;\n",
       "    }\n",
       "</style>\n",
       "<table border=\"1\" class=\"dataframe\">\n",
       "  <thead>\n",
       "    <tr style=\"text-align: right;\">\n",
       "      <th></th>\n",
       "      <th>score</th>\n",
       "      <th>favoritecount</th>\n",
       "    </tr>\n",
       "  </thead>\n",
       "  <tbody>\n",
       "    <tr>\n",
       "      <th>0</th>\n",
       "      <td>4.0</td>\n",
       "      <td>1.0</td>\n",
       "    </tr>\n",
       "    <tr>\n",
       "      <th>1</th>\n",
       "      <td>12.0</td>\n",
       "      <td>8.0</td>\n",
       "    </tr>\n",
       "    <tr>\n",
       "      <th>2</th>\n",
       "      <td>14.0</td>\n",
       "      <td>9.0</td>\n",
       "    </tr>\n",
       "    <tr>\n",
       "      <th>3</th>\n",
       "      <td>23.0</td>\n",
       "      <td>16.0</td>\n",
       "    </tr>\n",
       "    <tr>\n",
       "      <th>4</th>\n",
       "      <td>32.0</td>\n",
       "      <td>21.0</td>\n",
       "    </tr>\n",
       "  </tbody>\n",
       "</table>\n",
       "</div>"
      ],
      "text/plain": [
       "   score  favoritecount\n",
       "0    4.0            1.0\n",
       "1   12.0            8.0\n",
       "2   14.0            9.0\n",
       "3   23.0           16.0\n",
       "4   32.0           21.0"
      ]
     },
     "execution_count": 22,
     "metadata": {},
     "output_type": "execute_result"
    }
   ],
   "source": [
    "so[['score', 'favoritecount']].cumsum()"
   ]
  },
  {
   "cell_type": "markdown",
   "metadata": {},
   "source": [
    "A more practical example of using `.mean()` and `.groupby()`. Notice that only the numerical columns are used"
   ]
  },
  {
   "cell_type": "code",
   "execution_count": 23,
   "metadata": {},
   "outputs": [
    {
     "data": {
      "text/html": [
       "<div>\n",
       "<style scoped>\n",
       "    .dataframe tbody tr th:only-of-type {\n",
       "        vertical-align: middle;\n",
       "    }\n",
       "\n",
       "    .dataframe tbody tr th {\n",
       "        vertical-align: top;\n",
       "    }\n",
       "\n",
       "    .dataframe thead th {\n",
       "        text-align: right;\n",
       "    }\n",
       "</style>\n",
       "<table border=\"1\" class=\"dataframe\">\n",
       "  <thead>\n",
       "    <tr style=\"text-align: right;\">\n",
       "      <th></th>\n",
       "      <th>id</th>\n",
       "      <th>score</th>\n",
       "      <th>viewcount</th>\n",
       "      <th>answercount</th>\n",
       "      <th>commentcount</th>\n",
       "      <th>favoritecount</th>\n",
       "      <th>quest_rep</th>\n",
       "      <th>ans_rep</th>\n",
       "    </tr>\n",
       "    <tr>\n",
       "      <th>ans_name</th>\n",
       "      <th></th>\n",
       "      <th></th>\n",
       "      <th></th>\n",
       "      <th></th>\n",
       "      <th></th>\n",
       "      <th></th>\n",
       "      <th></th>\n",
       "      <th></th>\n",
       "    </tr>\n",
       "  </thead>\n",
       "  <tbody>\n",
       "    <tr>\n",
       "      <th>HYRY</th>\n",
       "      <td>7577546.0</td>\n",
       "      <td>9.0</td>\n",
       "      <td>2488.0</td>\n",
       "      <td>1.0</td>\n",
       "      <td>0.0</td>\n",
       "      <td>5.0</td>\n",
       "      <td>958.0</td>\n",
       "      <td>54137.0</td>\n",
       "    </tr>\n",
       "    <tr>\n",
       "      <th>Mike Pennington</th>\n",
       "      <td>5500623.5</td>\n",
       "      <td>6.0</td>\n",
       "      <td>4564.0</td>\n",
       "      <td>3.0</td>\n",
       "      <td>5.0</td>\n",
       "      <td>4.0</td>\n",
       "      <td>1713.0</td>\n",
       "      <td>26995.0</td>\n",
       "    </tr>\n",
       "    <tr>\n",
       "      <th>Wes McKinney</th>\n",
       "      <td>6013219.5</td>\n",
       "      <td>5.5</td>\n",
       "      <td>10224.0</td>\n",
       "      <td>1.5</td>\n",
       "      <td>0.0</td>\n",
       "      <td>4.0</td>\n",
       "      <td>1709.0</td>\n",
       "      <td>43310.0</td>\n",
       "    </tr>\n",
       "  </tbody>\n",
       "</table>\n",
       "</div>"
      ],
      "text/plain": [
       "                        id  score  viewcount  answercount  commentcount  \\\n",
       "ans_name                                                                  \n",
       "HYRY             7577546.0    9.0     2488.0          1.0           0.0   \n",
       "Mike Pennington  5500623.5    6.0     4564.0          3.0           5.0   \n",
       "Wes McKinney     6013219.5    5.5    10224.0          1.5           0.0   \n",
       "\n",
       "                 favoritecount  quest_rep  ans_rep  \n",
       "ans_name                                            \n",
       "HYRY                       5.0      958.0  54137.0  \n",
       "Mike Pennington            4.0     1713.0  26995.0  \n",
       "Wes McKinney               4.0     1709.0  43310.0  "
      ]
     },
     "execution_count": 23,
     "metadata": {},
     "output_type": "execute_result"
    }
   ],
   "source": [
    "so.groupby('ans_name').mean()"
   ]
  },
  {
   "cell_type": "code",
   "execution_count": 24,
   "metadata": {},
   "outputs": [
    {
     "data": {
      "text/html": [
       "<div>\n",
       "<style scoped>\n",
       "    .dataframe tbody tr th:only-of-type {\n",
       "        vertical-align: middle;\n",
       "    }\n",
       "\n",
       "    .dataframe tbody tr th {\n",
       "        vertical-align: top;\n",
       "    }\n",
       "\n",
       "    .dataframe thead th {\n",
       "        text-align: right;\n",
       "    }\n",
       "</style>\n",
       "<table border=\"1\" class=\"dataframe\">\n",
       "  <thead>\n",
       "    <tr style=\"text-align: right;\">\n",
       "      <th></th>\n",
       "      <th>Unnamed: 0</th>\n",
       "      <th>Browser</th>\n",
       "      <th>Country</th>\n",
       "      <th>Date Submitted</th>\n",
       "      <th>Device</th>\n",
       "      <th>How did you hear about us?</th>\n",
       "      <th>OS</th>\n",
       "      <th>Source URL</th>\n",
       "      <th>User</th>\n",
       "      <th>Medium</th>\n",
       "      <th>OSGroup</th>\n",
       "    </tr>\n",
       "  </thead>\n",
       "  <tbody>\n",
       "    <tr>\n",
       "      <th>197</th>\n",
       "      <td>197</td>\n",
       "      <td>Chrome 66.0.3359</td>\n",
       "      <td>NaN</td>\n",
       "      <td>2018-05-21 04:13:31</td>\n",
       "      <td>desktop</td>\n",
       "      <td>Search Engine</td>\n",
       "      <td>Windows 7</td>\n",
       "      <td>https://algorit.ma/</td>\n",
       "      <td>00000000</td>\n",
       "      <td>Search Engine</td>\n",
       "      <td>Windows</td>\n",
       "    </tr>\n",
       "    <tr>\n",
       "      <th>376</th>\n",
       "      <td>376</td>\n",
       "      <td>Opera 55.0.2994</td>\n",
       "      <td>NaN</td>\n",
       "      <td>2018-09-06 06:03:52</td>\n",
       "      <td>desktop</td>\n",
       "      <td>Search Engine</td>\n",
       "      <td>Windows 7</td>\n",
       "      <td>https://algorit.ma/</td>\n",
       "      <td>00000000</td>\n",
       "      <td>Search Engine</td>\n",
       "      <td>Windows</td>\n",
       "    </tr>\n",
       "  </tbody>\n",
       "</table>\n",
       "</div>"
      ],
      "text/plain": [
       "     Unnamed: 0           Browser Country       Date Submitted   Device  \\\n",
       "197         197  Chrome 66.0.3359     NaN  2018-05-21 04:13:31  desktop   \n",
       "376         376   Opera 55.0.2994     NaN  2018-09-06 06:03:52  desktop   \n",
       "\n",
       "    How did you hear about us?         OS           Source URL      User  \\\n",
       "197              Search Engine  Windows 7  https://algorit.ma/  00000000   \n",
       "376              Search Engine  Windows 7  https://algorit.ma/  00000000   \n",
       "\n",
       "            Medium  OSGroup  \n",
       "197  Search Engine  Windows  \n",
       "376  Search Engine  Windows  "
      ]
     },
     "execution_count": 24,
     "metadata": {},
     "output_type": "execute_result"
    }
   ],
   "source": [
    "home.loc[pd.isna(home['Country']),:]"
   ]
  },
  {
   "cell_type": "markdown",
   "metadata": {},
   "source": [
    "Using `fillna()` to fill missing values:"
   ]
  },
  {
   "cell_type": "code",
   "execution_count": 27,
   "metadata": {},
   "outputs": [
    {
     "data": {
      "text/html": [
       "<div>\n",
       "<style scoped>\n",
       "    .dataframe tbody tr th:only-of-type {\n",
       "        vertical-align: middle;\n",
       "    }\n",
       "\n",
       "    .dataframe tbody tr th {\n",
       "        vertical-align: top;\n",
       "    }\n",
       "\n",
       "    .dataframe thead th {\n",
       "        text-align: right;\n",
       "    }\n",
       "</style>\n",
       "<table border=\"1\" class=\"dataframe\">\n",
       "  <thead>\n",
       "    <tr style=\"text-align: right;\">\n",
       "      <th></th>\n",
       "      <th>Unnamed: 0</th>\n",
       "      <th>Browser</th>\n",
       "      <th>Country</th>\n",
       "      <th>Date Submitted</th>\n",
       "      <th>Device</th>\n",
       "      <th>How did you hear about us?</th>\n",
       "      <th>OS</th>\n",
       "      <th>Source URL</th>\n",
       "      <th>User</th>\n",
       "      <th>Medium</th>\n",
       "      <th>OSGroup</th>\n",
       "    </tr>\n",
       "  </thead>\n",
       "  <tbody>\n",
       "    <tr>\n",
       "      <th>197</th>\n",
       "      <td>197</td>\n",
       "      <td>Chrome 66.0.3359</td>\n",
       "      <td>Indonesia</td>\n",
       "      <td>2018-05-21 04:13:31</td>\n",
       "      <td>desktop</td>\n",
       "      <td>Search Engine</td>\n",
       "      <td>Windows 7</td>\n",
       "      <td>https://algorit.ma/</td>\n",
       "      <td>00000000</td>\n",
       "      <td>Search Engine</td>\n",
       "      <td>Windows</td>\n",
       "    </tr>\n",
       "    <tr>\n",
       "      <th>376</th>\n",
       "      <td>376</td>\n",
       "      <td>Opera 55.0.2994</td>\n",
       "      <td>Indonesia</td>\n",
       "      <td>2018-09-06 06:03:52</td>\n",
       "      <td>desktop</td>\n",
       "      <td>Search Engine</td>\n",
       "      <td>Windows 7</td>\n",
       "      <td>https://algorit.ma/</td>\n",
       "      <td>00000000</td>\n",
       "      <td>Search Engine</td>\n",
       "      <td>Windows</td>\n",
       "    </tr>\n",
       "  </tbody>\n",
       "</table>\n",
       "</div>"
      ],
      "text/plain": [
       "     Unnamed: 0           Browser    Country       Date Submitted   Device  \\\n",
       "197         197  Chrome 66.0.3359  Indonesia  2018-05-21 04:13:31  desktop   \n",
       "376         376   Opera 55.0.2994  Indonesia  2018-09-06 06:03:52  desktop   \n",
       "\n",
       "    How did you hear about us?         OS           Source URL      User  \\\n",
       "197              Search Engine  Windows 7  https://algorit.ma/  00000000   \n",
       "376              Search Engine  Windows 7  https://algorit.ma/  00000000   \n",
       "\n",
       "            Medium  OSGroup  \n",
       "197  Search Engine  Windows  \n",
       "376  Search Engine  Windows  "
      ]
     },
     "execution_count": 27,
     "metadata": {},
     "output_type": "execute_result"
    }
   ],
   "source": [
    "home['Country'] = home['Country'].fillna('Indonesia')\n",
    "home.iloc[[197,376], :]"
   ]
  },
  {
   "cell_type": "markdown",
   "metadata": {},
   "source": [
    "Using `dropna()`:"
   ]
  },
  {
   "cell_type": "code",
   "execution_count": 41,
   "metadata": {},
   "outputs": [
    {
     "name": "stdout",
     "output_type": "stream",
     "text": [
      "(409, 11)\n",
      "(407, 11)\n"
     ]
    }
   ],
   "source": [
    "# drop rows (axis=0) where there's any NA values\n",
    "print(home.shape)\n",
    "home.dropna(axis=0, inplace=True)\n",
    "print(home.shape)"
   ]
  },
  {
   "cell_type": "markdown",
   "metadata": {},
   "source": [
    "Using `interpolate()`:"
   ]
  },
  {
   "cell_type": "code",
   "execution_count": 44,
   "metadata": {},
   "outputs": [
    {
     "name": "stdout",
     "output_type": "stream",
     "text": [
      "     A      B\n",
      "0  1.0   0.25\n",
      "1  2.1    NaN\n",
      "2  NaN    NaN\n",
      "3  4.7   4.00\n",
      "4  5.6  12.20\n",
      "5  6.8  14.40\n"
     ]
    }
   ],
   "source": [
    "import numpy as np\n",
    "df = pd.DataFrame({\n",
    "        'A': [1, 2.1, np.nan, 4.7, 5.6, 6.8],\n",
    "        'B': [.25, np.nan, np.nan, 4, 12.2, 14.4]})\n",
    "print(df)"
   ]
  },
  {
   "cell_type": "code",
   "execution_count": 45,
   "metadata": {},
   "outputs": [
    {
     "data": {
      "text/html": [
       "<div>\n",
       "<style scoped>\n",
       "    .dataframe tbody tr th:only-of-type {\n",
       "        vertical-align: middle;\n",
       "    }\n",
       "\n",
       "    .dataframe tbody tr th {\n",
       "        vertical-align: top;\n",
       "    }\n",
       "\n",
       "    .dataframe thead th {\n",
       "        text-align: right;\n",
       "    }\n",
       "</style>\n",
       "<table border=\"1\" class=\"dataframe\">\n",
       "  <thead>\n",
       "    <tr style=\"text-align: right;\">\n",
       "      <th></th>\n",
       "      <th>A</th>\n",
       "      <th>B</th>\n",
       "    </tr>\n",
       "  </thead>\n",
       "  <tbody>\n",
       "    <tr>\n",
       "      <th>0</th>\n",
       "      <td>1.0</td>\n",
       "      <td>0.25</td>\n",
       "    </tr>\n",
       "    <tr>\n",
       "      <th>1</th>\n",
       "      <td>2.1</td>\n",
       "      <td>1.50</td>\n",
       "    </tr>\n",
       "    <tr>\n",
       "      <th>2</th>\n",
       "      <td>3.4</td>\n",
       "      <td>2.75</td>\n",
       "    </tr>\n",
       "    <tr>\n",
       "      <th>3</th>\n",
       "      <td>4.7</td>\n",
       "      <td>4.00</td>\n",
       "    </tr>\n",
       "    <tr>\n",
       "      <th>4</th>\n",
       "      <td>5.6</td>\n",
       "      <td>12.20</td>\n",
       "    </tr>\n",
       "    <tr>\n",
       "      <th>5</th>\n",
       "      <td>6.8</td>\n",
       "      <td>14.40</td>\n",
       "    </tr>\n",
       "  </tbody>\n",
       "</table>\n",
       "</div>"
      ],
      "text/plain": [
       "     A      B\n",
       "0  1.0   0.25\n",
       "1  2.1   1.50\n",
       "2  3.4   2.75\n",
       "3  4.7   4.00\n",
       "4  5.6  12.20\n",
       "5  6.8  14.40"
      ]
     },
     "execution_count": 45,
     "metadata": {},
     "output_type": "execute_result"
    }
   ],
   "source": [
    "# performs linear interpolation\n",
    "df.interpolate()"
   ]
  },
  {
   "cell_type": "code",
   "execution_count": null,
   "metadata": {},
   "outputs": [],
   "source": []
  }
 ],
 "metadata": {
  "kernelspec": {
   "display_name": "Python 3",
   "language": "python",
   "name": "python3"
  },
  "language_info": {
   "codemirror_mode": {
    "name": "ipython",
    "version": 3
   },
   "file_extension": ".py",
   "mimetype": "text/x-python",
   "name": "python",
   "nbconvert_exporter": "python",
   "pygments_lexer": "ipython3",
   "version": "3.6.3"
  }
 },
 "nbformat": 4,
 "nbformat_minor": 2
}
